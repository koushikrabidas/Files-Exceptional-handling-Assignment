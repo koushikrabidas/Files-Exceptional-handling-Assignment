{
 "cells": [
  {
   "cell_type": "markdown",
   "id": "5b133e8d",
   "metadata": {},
   "source": [
    "1. What is the difference between interpreted and compiled languages?\n",
    "    - Compiled languages are translated into machine code before running, while interpreted languages are run line by line by an interpreter at runtime."
   ]
  },
  {
   "cell_type": "markdown",
   "id": "48b0b5cd",
   "metadata": {},
   "source": [
    "2. What is exception handling in Python?\n",
    "    - Exception handling in Python is a way to manage errors that occur during program execution using try, except, else, and finally blocks to prevent crashes and handle issues."
   ]
  },
  {
   "cell_type": "markdown",
   "id": "6051f7af",
   "metadata": {},
   "source": [
    "3. What is the purpose of the finally block in exception handling?\n",
    "    - The finally block in Python is used to define code that always runs, whether an exception occurs or not. If a file is opened, this ensures that is always closed, even if there's an error."
   ]
  },
  {
   "cell_type": "markdown",
   "id": "f9d2bee9",
   "metadata": {},
   "source": [
    "4.  What is logging in Python?\n",
    "    - Logging in Python is a way to track events and messages in you program, such as errors, warnings etc by writing them to a file."
   ]
  },
  {
   "cell_type": "markdown",
   "id": "1ea9b71b",
   "metadata": {},
   "source": [
    "5. What is the significance of the __del__ method in Python?\n",
    "    - The __del__ method in Python is a destructor, it is called autometically when an object is about to be destroyed, typically used to clean up resources."
   ]
  },
  {
   "cell_type": "markdown",
   "id": "fce02dbd",
   "metadata": {},
   "source": [
    "6. What is the difference between import and from ... import in Python?\n",
    "    - \"import\" imports the whole module, one can access functions or classes using the module name whereas \"from ... import\" imports specific items from a module and one can use directly without the module name."
   ]
  },
  {
   "cell_type": "markdown",
   "id": "1c62a8c4",
   "metadata": {},
   "source": [
    "7. How can you handle multiple exceptions in Python?\n",
    "    - One can handle multiple exceptions in Python by using multiple except blocks or a single except with a tuple of exceptions."
   ]
  },
  {
   "cell_type": "markdown",
   "id": "07c2ff1d",
   "metadata": {},
   "source": [
    "8. What is the purpose of the with statement when handling files in Python?\n",
    "    - The 'with' statement in Python is used to automatically manage resources like files, ensuring they are properly closed after use."
   ]
  },
  {
   "cell_type": "markdown",
   "id": "7ee36e89",
   "metadata": {},
   "source": [
    "9.  What is the difference between multithreading and multiprocessing?\n",
    "    - Multithreading runs multiple threads within a single process to share memory and resources, while multiprocessing runs multiple processes with separate memory spaces to fully utilize multiple CPU cores."
   ]
  },
  {
   "cell_type": "markdown",
   "id": "9919f4ac",
   "metadata": {},
   "source": [
    "10.  What are the advantages of using logging in a program?\n",
    "        - The advantages of using 'logging' in a program to track events for debugging, stores logs in files, provide different levels, and also helps diagnose the problem in a program."
   ]
  },
  {
   "cell_type": "markdown",
   "id": "2d1c6472",
   "metadata": {},
   "source": [
    "11. What is memory management in Python?\n",
    "    - Memory management in Python is the process of allocating and freeing memory autometically to store variable, objects, and data, using techniques like reference counting and garbage collection to keep the program efficient and prevent memory leaks."
   ]
  },
  {
   "cell_type": "markdown",
   "id": "26c483a9",
   "metadata": {},
   "source": [
    "12. What are the basic steps involved in exception handling in Python?\n",
    "    - Basic steps in exception handling are 'try' and 'except'."
   ]
  },
  {
   "cell_type": "markdown",
   "id": "e51358b1",
   "metadata": {},
   "source": [
    "13. Why is memory management important in Python?\n",
    "    - Memory management is important in Python to ensure that program uses memory efficiently, avoids memory leaks and runs smoothly without crashing due to running out of memory."
   ]
  },
  {
   "cell_type": "markdown",
   "id": "898c0fd6",
   "metadata": {},
   "source": [
    "14. What is the role of try and except in exception handling?\n",
    "    - The 'try' block contains code that might cause an error and the 'except' block catches and handles the error so the program doesn't crash."
   ]
  },
  {
   "cell_type": "markdown",
   "id": "8c20a6bd",
   "metadata": {},
   "source": [
    "15. How does Python's garbage collection system work?\n",
    "    - Python's garbage collection system works by automatically freeing memroy that's no longer needed using Reference counting and Garbage collector. This helps prevent memory leaks and keeps memory usage efficient."
   ]
  },
  {
   "cell_type": "markdown",
   "id": "bbd24b8b",
   "metadata": {},
   "source": [
    "16. What is the purpose of the else block in exception handling?\n",
    "    - The 'else' block in execption handling runs only if no exception occurs in the try block."
   ]
  },
  {
   "cell_type": "markdown",
   "id": "e4253ca5",
   "metadata": {},
   "source": [
    "17. What are the common logging levels in Python?\n",
    "    - The common logging levels in Python are 'DEBUG', 'INFO', 'WARNING', 'ERROR' and 'CRITICAL'."
   ]
  },
  {
   "cell_type": "markdown",
   "id": "3c647796",
   "metadata": {},
   "source": [
    "18. What is the difference between os.fork() and multiprocessing in Python?\n",
    "    - 'os.fork()' creates a child process by duplicating the current process giving low-level control but requiring manual communication and management whereas multiprocessing is high-level module that works on all platforms and provides easy tools to create, manage and communication between muliple processes safely."
   ]
  },
  {
   "cell_type": "markdown",
   "id": "1ccd5ac4",
   "metadata": {},
   "source": [
    "19. What is the importance of closing a file in Python?\n",
    "    - Closing a file in Python is important because it frees system resources, ensure all data is properly written to disk and prevents file corruption or data loss."
   ]
  },
  {
   "cell_type": "markdown",
   "id": "7dc9116b",
   "metadata": {},
   "source": [
    "20. What is the difference between file.read() and file.readline() in Python?\n",
    "    - 'file.read()' reads the entire file as a single string whereas 'file.readline()' reads one line at a time from the file."
   ]
  },
  {
   "cell_type": "markdown",
   "id": "04fd95e8",
   "metadata": {},
   "source": [
    "21. What is the logging module in Python used for?\n",
    "    - The logging module in Python is used to record messages about a program's execution, for debugging, monitoring and tracking purpoese."
   ]
  },
  {
   "cell_type": "markdown",
   "id": "94d45535",
   "metadata": {},
   "source": [
    "22. What is the os module in Python used for in file handling?\n",
    "    - The 'os' module in Python is used in file handling to perform operating system-related tasks like creating, deleting, checking paths etc."
   ]
  },
  {
   "cell_type": "markdown",
   "id": "8e4d34d2",
   "metadata": {},
   "source": [
    "23. What are the challenges associated with memory management in Python?\n",
    "    - Challenges associated with memory management is Memory leaks, Garbage collection delay, high memory usage etc.\n"
   ]
  },
  {
   "cell_type": "markdown",
   "id": "209f4b6d",
   "metadata": {},
   "source": [
    "24. How do you raise an exception manually in Python?\n",
    "    - One can raise an exception manually in Python using the 'raise' keyword."
   ]
  },
  {
   "cell_type": "markdown",
   "id": "fb2e8515",
   "metadata": {},
   "source": [
    "25. Why is it important to use multithreading in certain applications?\n",
    "    - Multithreading is important in certain application because it allows multiple taks to run concurrently, improving performane and responsiveness, especially in programs that handle I/O bound operations."
   ]
  },
  {
   "cell_type": "markdown",
   "id": "199525b8",
   "metadata": {},
   "source": [
    "Practical Questions"
   ]
  },
  {
   "cell_type": "markdown",
   "id": "16189cf8",
   "metadata": {},
   "source": [
    "1. How can you open a file for writing in Python and write a string to it?"
   ]
  },
  {
   "cell_type": "code",
   "execution_count": 7,
   "id": "ce12a6d7",
   "metadata": {},
   "outputs": [],
   "source": [
    "with open(\"file.txt\", 'w') as f:\n",
    "    f.write(\"Hello, This is Koushik Rabidas.\\n I am persuing Data Analytics course at PWSkills.\")"
   ]
  },
  {
   "cell_type": "markdown",
   "id": "b24bb632",
   "metadata": {},
   "source": [
    "2. Write a Python program to read the contents of a file and print each line."
   ]
  },
  {
   "cell_type": "code",
   "execution_count": 8,
   "id": "44fbc0be",
   "metadata": {},
   "outputs": [
    {
     "name": "stdout",
     "output_type": "stream",
     "text": [
      "Hello, This is Koushik Rabidas.\n",
      "I am persuing Data Analytics course at PWSkills.\n"
     ]
    }
   ],
   "source": [
    "with open(\"file.txt\",'r') as f:\n",
    "    for line in f:\n",
    "        print(line.strip())"
   ]
  },
  {
   "cell_type": "markdown",
   "id": "f96103c5",
   "metadata": {},
   "source": [
    "3. How would you handle a case where the file doesn't exist while trying to open it for reading?"
   ]
  },
  {
   "cell_type": "code",
   "execution_count": 9,
   "id": "44785695",
   "metadata": {},
   "outputs": [
    {
     "name": "stdout",
     "output_type": "stream",
     "text": [
      "The file was not found\n"
     ]
    }
   ],
   "source": [
    "try:\n",
    "    with open(\"file1.txt\", 'r') as f:\n",
    "        for line in f:\n",
    "            print(line.strip())\n",
    "except FileNotFoundError:\n",
    "    print(\"The file was not found\")"
   ]
  },
  {
   "cell_type": "markdown",
   "id": "21bb577a",
   "metadata": {},
   "source": [
    "4. Write a Python script that reads from one file and writes its content to another file."
   ]
  },
  {
   "cell_type": "code",
   "execution_count": 10,
   "id": "16a68234",
   "metadata": {},
   "outputs": [
    {
     "name": "stdout",
     "output_type": "stream",
     "text": [
      "Content copied succesfully\n"
     ]
    }
   ],
   "source": [
    "with open(\"file.txt\", 'r') as f:\n",
    "    readfile = f.read()\n",
    "\n",
    "with open(\"file2.txt\", 'w') as f:\n",
    "    f.write(readfile)\n",
    "\n",
    "print(\"Content copied succesfully\")"
   ]
  },
  {
   "cell_type": "markdown",
   "id": "edeb04f9",
   "metadata": {},
   "source": [
    "5. How would you catch and handle division by zero error in Python?"
   ]
  },
  {
   "cell_type": "code",
   "execution_count": 11,
   "id": "9daa4fda",
   "metadata": {},
   "outputs": [
    {
     "name": "stdout",
     "output_type": "stream",
     "text": [
      "The number cannot be divisible by zero\n"
     ]
    }
   ],
   "source": [
    "try:\n",
    "    10/0\n",
    "except ZeroDivisionError:\n",
    "    print(\"The number cannot be divisible by zero\")"
   ]
  },
  {
   "cell_type": "markdown",
   "id": "4e172959",
   "metadata": {},
   "source": [
    "6.  Write a Python program that logs an error message to a log file when a division by zero exception occurs."
   ]
  },
  {
   "cell_type": "code",
   "execution_count": 12,
   "id": "4bf83f2e",
   "metadata": {},
   "outputs": [
    {
     "name": "stdout",
     "output_type": "stream",
     "text": [
      "An error occured, check error.log\n"
     ]
    }
   ],
   "source": [
    "import logging\n",
    "logging.basicConfig(filename= 'error.log', level=logging.ERROR, format='%(asctime)s - %(levelname)s - %(message)s')\n",
    "\n",
    "try:\n",
    "    result= 10/0\n",
    "except ZeroDivisionError:\n",
    "    logging.error(\"Attempted to divide by zero\")\n",
    "    print(\"An error occured, check error.log\")"
   ]
  },
  {
   "cell_type": "markdown",
   "id": "0886daa6",
   "metadata": {},
   "source": [
    "7. How do you log information at different levels (INFO, ERROR, WARNING) in Python using the logging module?"
   ]
  },
  {
   "cell_type": "code",
   "execution_count": null,
   "id": "b5eb17e5",
   "metadata": {},
   "outputs": [
    {
     "name": "stderr",
     "output_type": "stream",
     "text": [
      "INFO: This is a info message\n",
      "WARNING: This is a warning \n",
      "ERROR: This is an error message\n"
     ]
    }
   ],
   "source": [
    "import logging\n",
    "logging.basicConfig(level = logging.DEBUG, format = '%(levelname)s: %(message)s', force=True)\n",
    "\n",
    "#force = True is used because earlier in this same notebook logging setup was run.\n",
    "\n",
    "logging.info(\"This is a info message\")\n",
    "logging.warning(\"This is a warning \")\n",
    "logging.error(\"This is an error message\")"
   ]
  },
  {
   "cell_type": "markdown",
   "id": "ba780c71",
   "metadata": {},
   "source": [
    "8. Write a program to handle a file opening error using exception handling."
   ]
  },
  {
   "cell_type": "code",
   "execution_count": 15,
   "id": "e0740c36",
   "metadata": {},
   "outputs": [
    {
     "name": "stdout",
     "output_type": "stream",
     "text": [
      "The file was not found\n"
     ]
    }
   ],
   "source": [
    "try:\n",
    "    with open(\"file1.txt\", 'r') as f:\n",
    "        readfile = f.read()\n",
    "        print(readfile)\n",
    "except FileNotFoundError:\n",
    "    print(\"The file was not found\")"
   ]
  },
  {
   "cell_type": "markdown",
   "id": "b0d6ab6c",
   "metadata": {},
   "source": [
    "9. How can you read a file line by line and store its content in a list in Python?"
   ]
  },
  {
   "cell_type": "code",
   "execution_count": 17,
   "id": "778cf387",
   "metadata": {},
   "outputs": [
    {
     "name": "stdout",
     "output_type": "stream",
     "text": [
      "['Hello, This is Koushik Rabidas.\\n', ' I am persuing Data Analytics course at PWSkills.']\n"
     ]
    }
   ],
   "source": [
    "with open(\"file.txt\",'r') as f:\n",
    "    read_file = f.readlines()\n",
    "    print(read_file)"
   ]
  },
  {
   "cell_type": "markdown",
   "id": "c25ab890",
   "metadata": {},
   "source": [
    "10. How can you append data to an existing file in Python?"
   ]
  },
  {
   "cell_type": "code",
   "execution_count": 18,
   "id": "470bd53a",
   "metadata": {},
   "outputs": [
    {
     "name": "stdout",
     "output_type": "stream",
     "text": [
      "Hello, This is Koushik Rabidas.\n",
      " I am persuing Data Analytics course at PWSkills.It's a six month course.\n"
     ]
    }
   ],
   "source": [
    "with open(\"file.txt\", 'a') as f:\n",
    "    f.write(\"It's a six month course.\")\n",
    "\n",
    "with open(\"file.txt\",'r') as f:\n",
    "    content = f.read()\n",
    "    print(content)"
   ]
  },
  {
   "cell_type": "markdown",
   "id": "d3d73d2a",
   "metadata": {},
   "source": [
    "11. Write a Python program that uses a try-except block to handle an error when attempting to access a \n",
    "dictionary key that doesn't exist."
   ]
  },
  {
   "cell_type": "code",
   "execution_count": 20,
   "id": "19e7594c",
   "metadata": {},
   "outputs": [
    {
     "name": "stdout",
     "output_type": "stream",
     "text": [
      "The Dictionary key is not found\n"
     ]
    }
   ],
   "source": [
    "my_dict = {\"name\": \"Koushik\", \"course\": \"DA\"}\n",
    "\n",
    "try:\n",
    "    print(my_dict[\"age\"])\n",
    "except KeyError:\n",
    "    print(\"The Dictionary key is not found\")"
   ]
  },
  {
   "cell_type": "markdown",
   "id": "6dc375d8",
   "metadata": {},
   "source": [
    "12.  Write a program that demonstrates using multiple except blocks to handle different types of exceptions."
   ]
  },
  {
   "cell_type": "code",
   "execution_count": 21,
   "id": "7e49712b",
   "metadata": {},
   "outputs": [
    {
     "name": "stdout",
     "output_type": "stream",
     "text": [
      "Enter a valid integer.\n"
     ]
    }
   ],
   "source": [
    "try:\n",
    "    num = int(input(\"Enter a number\"))\n",
    "    result = 10/num\n",
    "    print(f\"Result: {result}\")\n",
    "\n",
    "    my_list = [1,2,3,4]\n",
    "    print(my_list[4])\n",
    "\n",
    "except ValueError:\n",
    "    print(\"Enter a valid integer.\")\n",
    "except ZeroDivisionError:\n",
    "    print(\"Cannot divide by zero.\")\n",
    "except IndexError:\n",
    "    print(\"list index out of range.\")"
   ]
  },
  {
   "cell_type": "markdown",
   "id": "4aecd376",
   "metadata": {},
   "source": [
    "13. How would you check if a file exists before attempting to read it in Python?"
   ]
  },
  {
   "cell_type": "code",
   "execution_count": 23,
   "id": "62e7523b",
   "metadata": {},
   "outputs": [
    {
     "name": "stdout",
     "output_type": "stream",
     "text": [
      "File doesn't exists.\n"
     ]
    }
   ],
   "source": [
    "import os\n",
    "\n",
    "if os.path.exists(\"file3.txt\"):\n",
    "    with open(\"file.txt\", 'r') as f:\n",
    "        print(f.read())\n",
    "else:\n",
    "    print(\"File doesn't exists.\")"
   ]
  },
  {
   "cell_type": "markdown",
   "id": "f921f45b",
   "metadata": {},
   "source": [
    "14. Write a program that uses the logging module to log both informational and error messages."
   ]
  },
  {
   "cell_type": "code",
   "execution_count": 25,
   "id": "392d43b0",
   "metadata": {},
   "outputs": [],
   "source": [
    "import logging\n",
    "logging.basicConfig(filename='log_file.log', level = logging.DEBUG, format= '%(asctime)s - %(levelname)s - %(message)s', force=True)\n",
    "\n",
    "logging.info(\"Program started succesfully.\")\n",
    "\n",
    "try:\n",
    "    x = 10/0\n",
    "except ZeroDivisionError:\n",
    "    logging.error(\"Division by zero occured.\")\n",
    "\n",
    "logging.info(\"Program ended.\")"
   ]
  },
  {
   "cell_type": "markdown",
   "id": "43046693",
   "metadata": {},
   "source": [
    "15. Write a Python program that prints the content of a file and handles the case when the file is empty."
   ]
  },
  {
   "cell_type": "code",
   "execution_count": 27,
   "id": "56764785",
   "metadata": {},
   "outputs": [
    {
     "name": "stdout",
     "output_type": "stream",
     "text": [
      "The file is empty\n"
     ]
    }
   ],
   "source": [
    "try:\n",
    "    with open(\"file4.txt\", 'r') as f:\n",
    "        content = f.read()\n",
    "        if content.strip() == \"\":\n",
    "            print(\"The file is empty\")\n",
    "        else:\n",
    "            print(\"File content: \\n\")\n",
    "            print(content)\n",
    "except FileNotFoundError:\n",
    "    print(\"The file doesn't exist\")"
   ]
  },
  {
   "cell_type": "markdown",
   "id": "e68917da",
   "metadata": {},
   "source": [
    "16. Demonstrate how to use memory profiling to check the memory usage of a small program."
   ]
  },
  {
   "cell_type": "code",
   "execution_count": null,
   "id": "4c447fc9",
   "metadata": {},
   "outputs": [],
   "source": [
    "from memory_profiler import profile\n",
    "\n",
    "@profile\n",
    "def create_list():\n",
    "    data = [i for i in range(1000000)]\n",
    "    return data\n",
    "if __name__ == \"__main__\":\n",
    "    create_list()\n",
    "#output cannot be done here in Jupyter Notebook, it needs (.py) extention to execute."
   ]
  },
  {
   "cell_type": "markdown",
   "id": "321f54ae",
   "metadata": {},
   "source": [
    "17. Write a Python program to create and write a list of numbers to a file, one number per line."
   ]
  },
  {
   "cell_type": "code",
   "execution_count": 30,
   "id": "beeb5791",
   "metadata": {},
   "outputs": [
    {
     "name": "stdout",
     "output_type": "stream",
     "text": [
      "1 \n",
      "2 \n",
      "3 \n",
      "4 \n",
      "5\n"
     ]
    }
   ],
   "source": [
    "with open(\"file5.txt\", 'w') as f:\n",
    "    f.write(\"1 \\n2 \\n3 \\n4 \\n5\")\n",
    "with open(\"file5.txt\", 'r') as f:\n",
    "    print(f.read())"
   ]
  },
  {
   "cell_type": "markdown",
   "id": "4899b650",
   "metadata": {},
   "source": [
    "18. How would you implement a basic logging setup that logs to a file with rotation after 1MB?"
   ]
  },
  {
   "cell_type": "code",
   "execution_count": null,
   "id": "cb1c4677",
   "metadata": {},
   "outputs": [],
   "source": [
    "import logging\n",
    "from logging.handlers import RotatingFileHandler\n",
    "\n",
    "handler = RotatingFileHandler(\"app.log\", maxBytes=1 * 1024 * 1024, backupCount=3)\n",
    "formatter = logging.Formatter('%(asctime)s - %(levelname)s - %(message)s')\n",
    "handler.setFormatter(formatter)\n",
    "\n",
    "logger = logging.getLogger()\n",
    "logger.setLevel(logging.DEBUG)\n",
    "logger.addHandler(handler)\n",
    "\n",
    "for i in range(10000):\n",
    "    logger.info(f\"This is log message number {i}\")\n"
   ]
  },
  {
   "cell_type": "markdown",
   "id": "6105b175",
   "metadata": {},
   "source": [
    "19. Write a program that handles both IndexError and KeyError using a try-except block."
   ]
  },
  {
   "cell_type": "code",
   "execution_count": 33,
   "id": "e921ae00",
   "metadata": {},
   "outputs": [
    {
     "name": "stdout",
     "output_type": "stream",
     "text": [
      "Dictionary key not found.\n",
      "Index out of range.\n"
     ]
    }
   ],
   "source": [
    "dict1 = {\"name\": \"Koushik\", \"course\": \"DA\"}\n",
    "list1 = [1,2,3,4]\n",
    "\n",
    "try:\n",
    "    print(dict1[\"age\"])\n",
    "    \n",
    "except (IndexError, KeyError) as e:\n",
    "    if isinstance(e, IndexError):\n",
    "        print(\"Index out of range.\")\n",
    "    elif isinstance(e, KeyError):\n",
    "        print(\"Dictionary key not found.\")\n",
    "try:\n",
    "    print(list1[5])\n",
    "except (IndexError, KeyError) as e:\n",
    "    if isinstance(e, IndexError):\n",
    "        print(\"Index out of range.\")\n",
    "    elif isinstance(e, KeyError):\n",
    "        print(\"Dictionary key not found.\")"
   ]
  },
  {
   "cell_type": "markdown",
   "id": "9d789218",
   "metadata": {},
   "source": [
    "20. How would you open a file and read its contents using a context manager in Python?"
   ]
  },
  {
   "cell_type": "code",
   "execution_count": 34,
   "id": "4ee4f4d8",
   "metadata": {},
   "outputs": [
    {
     "name": "stdout",
     "output_type": "stream",
     "text": [
      "Hello, This is Koushik Rabidas.\n",
      " I am persuing Data Analytics course at PWSkills.It's a six month course.\n"
     ]
    }
   ],
   "source": [
    "with open(\"file.txt\", 'r') as f:\n",
    "    content = f.read()\n",
    "    print(content)"
   ]
  },
  {
   "cell_type": "markdown",
   "id": "3bc44d40",
   "metadata": {},
   "source": [
    "21. Write a Python program that reads a file and prints the number of occurrences of a specific word."
   ]
  },
  {
   "cell_type": "code",
   "execution_count": 37,
   "id": "2e8ce0a4",
   "metadata": {},
   "outputs": [
    {
     "name": "stdout",
     "output_type": "stream",
     "text": [
      "The word 'data' occurred 3 times.\n"
     ]
    }
   ],
   "source": [
    "def count_word_occurrences(filename, word):\n",
    "    try:\n",
    "        with open(filename, 'r') as f:\n",
    "            content = f.read().lower()\n",
    "            word = word.lower()\n",
    "            count = content.count(word)\n",
    "            print(f\"The word '{word}' occurred {count} times.\")\n",
    "    except FileNotFoundError:\n",
    "        print(\"Error: The file does not exist.\")\n",
    "\n",
    "count_word_occurrences(\"content1.txt\", \"data\")"
   ]
  },
  {
   "cell_type": "markdown",
   "id": "8dce339a",
   "metadata": {},
   "source": [
    "22. How can you check if a file is empty before attempting to read its contentsHow can you check if a file is empty before attempting to read its content?"
   ]
  },
  {
   "cell_type": "code",
   "execution_count": 38,
   "id": "37b37170",
   "metadata": {},
   "outputs": [
    {
     "name": "stdout",
     "output_type": "stream",
     "text": [
      "Hello, This is Koushik Rabidas.\n",
      " I am persuing Data Analytics course at PWSkills.It's a six month course.\n"
     ]
    }
   ],
   "source": [
    "import os\n",
    "\n",
    "filename = \"file.txt\"\n",
    "\n",
    "if os.path.exists(filename):\n",
    "    if os.path.getsize(filename) == 0:\n",
    "        print(\"The file is empty.\")\n",
    "    else:\n",
    "        with open(filename, 'r') as f:\n",
    "            print(f.read())\n",
    "else:\n",
    "    print(\"The file does not exist.\")"
   ]
  },
  {
   "cell_type": "markdown",
   "id": "5baedf5a",
   "metadata": {},
   "source": [
    "23. Write a Python program that writes to a log file when an error occurs during file handling."
   ]
  },
  {
   "cell_type": "code",
   "execution_count": 39,
   "id": "e8a8a8f0",
   "metadata": {},
   "outputs": [
    {
     "name": "stdout",
     "output_type": "stream",
     "text": [
      "An error occurred. Check 'file_error.log' for details.\n"
     ]
    }
   ],
   "source": [
    "import logging\n",
    "\n",
    "logging.basicConfig(\n",
    "    filename='file_error.log',\n",
    "    level=logging.ERROR,\n",
    "    format='%(asctime)s - %(levelname)s - %(message)s',\n",
    "    force=True\n",
    ")\n",
    "\n",
    "filename = \"non_existing_file.txt\"\n",
    "\n",
    "try:\n",
    "    with open(filename, 'r') as f:\n",
    "        content = f.read()\n",
    "        print(content)\n",
    "except FileNotFoundError as e:\n",
    "    logging.error(f\"File not found: {filename}\")\n",
    "    print(\"An error occurred. Check 'file_error.log' for details.\")\n",
    "except Exception as e:\n",
    "    logging.error(f\"An unexpected error occurred: {e}\")\n",
    "    print(\"An unexpected error occurred. Check the log.\")\n"
   ]
  }
 ],
 "metadata": {
  "kernelspec": {
   "display_name": "Python 3",
   "language": "python",
   "name": "python3"
  },
  "language_info": {
   "codemirror_mode": {
    "name": "ipython",
    "version": 3
   },
   "file_extension": ".py",
   "mimetype": "text/x-python",
   "name": "python",
   "nbconvert_exporter": "python",
   "pygments_lexer": "ipython3",
   "version": "3.13.2"
  }
 },
 "nbformat": 4,
 "nbformat_minor": 5
}
